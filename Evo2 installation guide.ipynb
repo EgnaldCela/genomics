{
 "cells": [
  {
   "cell_type": "markdown",
   "id": "4c0d9256",
   "metadata": {},
   "source": [
    "# Code and models\n",
    "• Top-level code repository: https://github.com/arcinstitute/evo2   \n",
    "• Pretraining, midtraining and finetuning code: https://github.com/zymrael/savanna   \n",
    "• Inference code: https://github.com/zymrael/vortex   \n",
    "• Evo Designer, an interactive user interface for generation and scoring with Evo 2:\n",
    "https://arcinstitute.org/tools/evo/evo-designer   \n",
    "• Evo Mech Interp Visualizer, an interactive user interface for exploring SAE features:\n",
    "https://arcinstitute.org/tools/evo/evo-mech-interp   \n",
    "• NVIDIA Evo 2 NIM (generation): https://build.nvidia.com/nvidia/evo2-protein-design   \n",
    "• NVIDIA Evo 2 NIM (forward): https://build.nvidia.com/arc/evo2-40b   \n",
    "• NVIDIA BioNeMo version of Evo 2 code: https://github.com/NVIDIA/bionemo-framework   \n",
    "We make the model parameters available on Hugging Face:   \n",
    "• Evo 2 40B: https://huggingface.co/arcinstitute/evo2_40b   \n",
    "• Evo 2 7B: https://huggingface.co/arcinstitute/evo2_7b   \n",
    "• Evo 2 40B base: https://huggingface.co/arcinstitute/evo2_40b_base   \n",
    "• Evo 2 7B base: https://huggingface.co/arcinstitute/evo2_7b_base   \n",
    "• Evo 2 1B base: https://huggingface.co/arcinstitute/evo2_1b_base   \n"
   ]
  },
  {
   "cell_type": "markdown",
   "id": "603bd280",
   "metadata": {},
   "source": [
    "# Evo2 Installation guide\n",
    "\n",
    "1. Create and activate virtual environment with python 3.11 (python3.12 is problematic when it comes to compatible torch building wheels)\n",
    "```bash\n",
    "conda create -n evo2env python=3.11\n",
    "conda activate evo2env \n",
    "```\n",
    "\n",
    "2. Install prerequisites\n",
    "``` bash\n",
    "conda install -c nvidia cuda-nvcc cuda-cudart-dev\n",
    "conda install -c conda-forge transformer-engine-torch=2.3.0\n",
    "pip install flash-attn==2.8.0.post2 --no-build-isolation\n",
    "```\n",
    "***Note***: Use an older version of flash like  2.7.4.post1\n",
    "\n",
    "3. Clone Evo2 repository and install\n",
    "``` bash\n",
    "pip install evo2\n",
    "```\n",
    "\n",
    "4. Verify installation is correct \n",
    "``` bash\n",
    "python -m evo2.test.test_evo2_generation --model_name evo2_7b\n",
    "```\n",
    "\n",
    "\n",
    "\n"
   ]
  },
  {
   "cell_type": "markdown",
   "id": "9b6ef79f",
   "metadata": {},
   "source": [
    "# Issues\n",
    "1. AssertionError: Device compute capability 8.9 or higher required for FP8 execution.   \n",
    "***Solution***: Find the 7b model configuration files and edit them to disable FP8.   \n",
    "It is said that this solution comes with numerical instability."
   ]
  },
  {
   "cell_type": "markdown",
   "id": "d54c6d77",
   "metadata": {},
   "source": [
    "# Requirements \n",
    "\n",
    "1. Transformer Engine >= 2.0.0   \n",
    "2. Flash Attention for optimized attention operations (strongly recommended)\n",
    "\n",
    "**System requirements**\n",
    "\n",
    "[OS] Linux (official) or WSL2 (limited support)   \n",
    "[GPU] Requires Compute Capability 8.9+ (Ada/Hopper/Blackwell) due to FP8 being required   \n",
    "[Software]   \n",
    "CUDA: 12.1+ (12.8+ for Blackwell) with compatible NVIDIA drivers   \n",
    "cuDNN: 9.3+   \n",
    "Compiler: GCC 9+ or Clang 10+ with C++17 support   \n",
    "Python 3.12 required   "
   ]
  }
 ],
 "metadata": {
  "kernelspec": {
   "display_name": "base",
   "language": "python",
   "name": "python3"
  },
  "language_info": {
   "name": "python",
   "version": "3.12.7"
  }
 },
 "nbformat": 4,
 "nbformat_minor": 5
}
