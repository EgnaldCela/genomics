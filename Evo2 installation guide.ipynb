{
 "cells": [
  {
   "cell_type": "markdown",
   "id": "603bd280",
   "metadata": {},
   "source": [
    "# Evo2 Setup and Usage (Single Cell)\n",
    "\n",
    "```bash\n",
    "# 1. Create and activate virtual environment\n",
    "conda create -n evo2env python=3.11\n",
    "conda activate evo2env\n",
    "\n",
    "# 2. Install dependencies\n",
    "conda install -c nvidia cuda-nvcc cuda-cudart-dev\n",
    "conda install -c conda-forge transformer-engine-torch=2.3.0\n",
    "pip install flash-attn==2.8.0.post2 --no-build-isolation\n",
    "# use an older version of flash like  2.7.4.post1\n",
    "\n",
    "# 3. Clone Evo2 repository and install\n",
    "pip install evo2\n",
    "\n",
    "# 4. Verify installation is correct \n",
    "python -m evo2.test.test_evo2_generation --model_name evo2_7b\n",
    "\n",
    "\n",
    "\n"
   ]
  }
 ],
 "metadata": {
  "kernelspec": {
   "display_name": "base",
   "language": "python",
   "name": "python3"
  },
  "language_info": {
   "name": "python",
   "version": "3.12.7"
  }
 },
 "nbformat": 4,
 "nbformat_minor": 5
}
